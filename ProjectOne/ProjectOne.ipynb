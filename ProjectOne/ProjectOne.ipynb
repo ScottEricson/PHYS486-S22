{
  "nbformat": 4,
  "nbformat_minor": 0,
  "metadata": {
    "colab": {
      "name": "Untitled0.ipynb",
      "provenance": [],
      "include_colab_link": true
    },
    "kernelspec": {
      "name": "python3",
      "display_name": "Python 3"
    },
    "language_info": {
      "name": "python"
    }
  },
  "cells": [
    {
      "cell_type": "markdown",
      "metadata": {
        "id": "view-in-github",
        "colab_type": "text"
      },
      "source": [
        "<a href=\"https://colab.research.google.com/github/ScottEricson/PHYS486-S22/blob/main/ProjectOne/ProjectOne.ipynb\" target=\"_parent\"><img src=\"https://colab.research.google.com/assets/colab-badge.svg\" alt=\"Open In Colab\"/></a>"
      ]
    },
    {
      "cell_type": "code",
      "execution_count": 1,
      "metadata": {
        "id": "zoBXCQuN7wR9"
      },
      "outputs": [],
      "source": [
        "#lots of imports\n",
        "#copied from Euler_Projectile.ipynb\n",
        "import numpy as np\n",
        "import math\n",
        "import matplotlib\n",
        "import matplotlib.pyplot as plt\n",
        "import matplotlib.cm as cm\n",
        "import matplotlib.mlab as mlab\n",
        "import matplotlib.colorbar as cb\n",
        "\n",
        "#set plot preferences\n",
        "from IPython.display import set_matplotlib_formats\n",
        "plt.rcParams['savefig.dpi'] = 200\n",
        "plt.rcParams['figure.autolayout'] = False\n",
        "plt.rcParams['figure.figsize'] = 8,8\n",
        "plt.rcParams['axes.labelsize'] = 18\n",
        "plt.rcParams['axes.titlesize'] = 20\n",
        "plt.rcParams['axes.linewidth'] = 2\n",
        "#plt.rcParams['axes.tickwidth'] = 8\n",
        "\n",
        "plt.rcParams['font.size'] = 16\n",
        "plt.rcParams['lines.linewidth'] = 4\n",
        "plt.rcParams['lines.markersize'] = 8\n",
        "plt.rcParams['legend.fontsize'] = 14\n",
        "\n",
        "matplotlib.rcParams['xtick.direction'] = 'out'\n",
        "matplotlib.rcParams['ytick.direction'] = 'out'"
      ]
    },
    {
      "cell_type": "markdown",
      "source": [
        "We want to model projectile motion iteratively using Euler method. First we need to determine some parameters"
      ],
      "metadata": {
        "id": "ZfG9MJR_9PEW"
      }
    },
    {
      "cell_type": "code",
      "source": [
        "#start with some constants\n",
        "g = 9.8 #model is for Earth's surface (near)\n",
        "x = 0. #x always starts at the origin for convenience\n",
        "\n",
        "#these constants should be allowed to change for different models, start with\n",
        "#no drag, but we'll use it later.\n",
        "C = 0.5\n",
        "A = 0.1\n",
        "rho = 1.225\n",
        "m = 100.\n",
        "timestep = 0.1\n",
        "\n",
        "#use a variable to combine all the drag constants\n",
        "k = 0.5*C*A*rho/m\n",
        "\n",
        "#these variables are the initial values. Start from rest and vertical drop case\n",
        "y = 1000.\n",
        "theta = - np.pi/2\n",
        "v_0=1.\n",
        "v_x = v_0*math.cos(theta)\n",
        "v_y = v_0*math.sin(theta)\n",
        "\n"
      ],
      "metadata": {
        "id": "KZU0XvFV9_TI"
      },
      "execution_count": 24,
      "outputs": []
    },
    {
      "cell_type": "markdown",
      "source": [
        "Now we can iterate (velocities from acceleration), and (position from velocities) to estimate the curve"
      ],
      "metadata": {
        "id": "dYncQQCl_D9c"
      }
    },
    {
      "cell_type": "code",
      "source": [
        "#iterate position in x and y\n",
        "def update_pos(x,y,v_x,v_y,timestep):\n",
        "  x_new = x + v_x*timestep\n",
        "  y_new = y + v_y*timestep\n",
        "  return x_new, y_new\n",
        "\n",
        "#iterate velocity in y (velocity in x is constant for the no-drag case)\n",
        "def update_vel_y(g,v_y,timestep):\n",
        "  v_y_new = v_y - g*timestep\n",
        "  return v_y_new\n",
        "\n",
        "#write arrays for positions and times\n",
        "def model_nodrag(x,y,timestep):\n",
        "  ypositions = [] #put the first enrty of each array\n",
        "  ypositions.append(y)\n",
        "  xpositions = []\n",
        "  xpositions.append(x)\n",
        "  times = []\n",
        "  times.append(0.)\n",
        "\n",
        "  t = 0. #prime the while loop with dummy variables and first iterations\n",
        "  i = 0\n",
        "  t += timestep\n",
        "  x_new,y_new = update_pos(x,y,v_x,v_y,timestep)\n",
        "  v_y_new = update_vel_y(g,v_y,timestep)\n",
        "\n",
        "  while (ypositions[i] >= 0): #make all the rest of the iterations until floor is hit\n",
        "    ypositions.append (y_new)\n",
        "    xpositions.append (x_new)\n",
        "    times.append(t)\n",
        "    x_new,y_new = update_pos(x_new,y_new,v_x,v_y_new,timestep)\n",
        "    v_y_new = update_vel_y(g,v_y_new,timestep)\n",
        "    t += timestep\n",
        "    i += 1\n",
        "\n",
        "  return xpositions,ypositions,times, i"
      ],
      "metadata": {
        "id": "-1q_fOmA_Gsp"
      },
      "execution_count": 18,
      "outputs": []
    },
    {
      "cell_type": "markdown",
      "source": [
        "Let's graph y vs. time:"
      ],
      "metadata": {
        "id": "PRstB3QLznzi"
      }
    },
    {
      "cell_type": "code",
      "source": [
        "xpositions,ypositions,times, i = model_nodrag(x,y,timestep)\n",
        "plt.plot(times[:],ypositions[:],marker = 'o', color = 'black', markersize = 4)\n",
        "falltime_nd = times[i]\n",
        "print(\"fall time = \",falltime_nd)"
      ],
      "metadata": {
        "id": "9vOvWzbuzoBG",
        "outputId": "cfadaada-239a-41e7-ea1e-550b8a7d0759",
        "colab": {
          "base_uri": "https://localhost:8080/",
          "height": 282
        }
      },
      "execution_count": 25,
      "outputs": [
        {
          "output_type": "stream",
          "name": "stdout",
          "text": [
            "fall time =  14.299999999999965\n"
          ]
        },
        {
          "output_type": "display_data",
          "data": {
            "text/plain": [
              "<Figure size 432x288 with 1 Axes>"
            ],
            "image/png": "[encoded data removed]"
          },
          "metadata": {
            "needs_background": "light"
          }
        }
      ]
    },
    {
      "cell_type": "markdown",
      "source": [
        "Now calculate the analytical solution as a check.\n",
        "\n",
        "0=1000-(1/2)gt**2\n",
        "\n",
        "2000=gt**2\n",
        "\n",
        "t = 14.2857 seconds.\n",
        "\n",
        "That's pretty close.\n",
        "\n",
        "We can try the drag case. position iteration will be the same, but velocity needs a new function"
      ],
      "metadata": {
        "id": "kjoTcM3L5-Om"
      }
    },
    {
      "cell_type": "code",
      "source": [
        "#iterate velocity in both x and y\n",
        "def update_drag_vel(v_x,v_y,timestep,k,g,m):\n",
        "  v = math.sqrt(v_x**2+v_y**2)\n",
        "\n",
        "  F_D_x = -k*v*v_x\n",
        "  v_x_drag = v_x + F_D_x*timestep/m\n",
        "\n",
        "  F_D_y = -k*v*v_y\n",
        "  v_y_drag = v_y - g*timestep + F_D_y*timestep/m\n",
        "\n",
        "  return v_y_drag, v_x_drag\n",
        "\n",
        "#write arrays for positions and times\n",
        "def model_drag(x,y,timestep):\n",
        "  yd_positions = [] #put the first enrty of each array\n",
        "  yd_positions.append(y)\n",
        "  xd_positions = []\n",
        "  xd_positions.append(x)\n",
        "  d_times = []\n",
        "  d_times.append(0.)\n",
        "\n",
        "  t = 0. #prime the while loop with dummy variables and first iterations\n",
        "  j = 0\n",
        "  t += timestep\n",
        "  x_new,y_new = update_pos(x,y,v_x,v_y,timestep)\n",
        "  v_x_drag,v_y_drag = update_drag_vel(v_x,v_y,timestep,k,g,m)\n",
        "\n",
        "  while (ypositions[j] >= 0): #make all the rest of the iterations until floor is hit\n",
        "    yd_positions.append (y_new)\n",
        "    xd_positions.append (x_new)\n",
        "    d_times.append(t)\n",
        "    x_new,y_new = update_pos(x_new,y_new,v_x_drag,v_y_drag,timestep)\n",
        "    v_x_drag,v_y_drag = update_drag_vel(v_x_drag,v_y_drag,timestep,k,g,m)\n",
        "    t += timestep\n",
        "    j += 1\n",
        "\n",
        "  return xd_positions,yd_positions,d_times, j"
      ],
      "metadata": {
        "id": "GL7SqNoW6Gxt"
      },
      "execution_count": 26,
      "outputs": []
    },
    {
      "cell_type": "markdown",
      "source": [
        ""
      ],
      "metadata": {
        "id": "PObLb5h7SU4L"
      }
    },
    {
      "cell_type": "code",
      "source": [
        "xd_positions,yd_positions,d_times, j = model_drag(x,y,timestep)\n",
        "plt.plot(d_times[:],yd_positions[:],marker = 'o', color = 'black', markersize = 4)\n",
        "falltime_d = d_times[j]\n",
        "print(\"fall time = \",falltime_d)\n"
      ],
      "metadata": {
        "id": "ogF2ArT4SVOT",
        "outputId": "fa5aeafe-7cb3-4042-b858-d2dbcd4445dc",
        "colab": {
          "base_uri": "https://localhost:8080/",
          "height": 282
        }
      },
      "execution_count": 27,
      "outputs": [
        {
          "output_type": "stream",
          "name": "stdout",
          "text": [
            "fall time =  14.299999999999965\n"
          ]
        },
        {
          "output_type": "display_data",
          "data": {
            "text/plain": [
              "<Figure size 432x288 with 1 Axes>"
            ],
            "image/png": "[encoded data removed]"
          },
          "metadata": {
            "needs_background": "light"
          }
        }
      ]
    }
  ]
}