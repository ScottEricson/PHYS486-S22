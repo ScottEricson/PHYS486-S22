{
  "nbformat": 4,
  "nbformat_minor": 0,
  "metadata": {
    "colab": {
      "name": "Untitled0.ipynb",
      "provenance": [],
      "authorship_tag": "ABX9TyOpQOPJOuYNsijosXAuz2kb",
      "include_colab_link": true
    },
    "kernelspec": {
      "name": "python3",
      "display_name": "Python 3"
    },
    "language_info": {
      "name": "python"
    }
  },
  "cells": [
    {
      "cell_type": "markdown",
      "metadata": {
        "id": "view-in-github",
        "colab_type": "text"
      },
      "source": [
        "<a href=\"https://colab.research.google.com/github/ScottEricson/PHYS486-S22/blob/main/ProjectOne/ProjectOne.ipynb\" target=\"_parent\"><img src=\"https://colab.research.google.com/assets/colab-badge.svg\" alt=\"Open In Colab\"/></a>"
      ]
    },
    {
      "cell_type": "code",
      "execution_count": null,
      "metadata": {
        "id": "zoBXCQuN7wR9"
      },
      "outputs": [],
      "source": [
        "#lots of imports\n",
        "#copied from Euler_Projectile.ipynb\n",
        "import numpy as np\n",
        "import math\n",
        "import matplotlib\n",
        "import matplotlib.pyplot as plt\n",
        "import matplotlib.cm as cm\n",
        "import matplotlib.mlab as mlab\n",
        "import matplotlib.colorbar as cb\n",
        "\n",
        "#set plot preferences\n",
        "from IPython.display import set_matplotlib_formats\n",
        "plt.rcParams['savefig.dpi'] = 200\n",
        "plt.rcParams['figure.autolayout'] = False\n",
        "plt.rcParams['figure.figsize'] = 8,8\n",
        "plt.rcParams['axes.labelsize'] = 18\n",
        "plt.rcParams['axes.titlesize'] = 20\n",
        "plt.rcParams['axes.linewidth'] = 2\n",
        "#plt.rcParams['axes.tickwidth'] = 8\n",
        "\n",
        "plt.rcParams['font.size'] = 16\n",
        "plt.rcParams['lines.linewidth'] = 4\n",
        "plt.rcParams['lines.markersize'] = 8\n",
        "plt.rcParams['legend.fontsize'] = 14\n",
        "\n",
        "matplotlib.rcParams['xtick.direction'] = 'out'\n",
        "matplotlib.rcParams['ytick.direction'] = 'out'"
      ]
    },
    {
      "cell_type": "markdown",
      "source": [
        "text"
      ],
      "metadata": {
        "id": "ZfG9MJR_9PEW"
      }
    },
    {
      "cell_type": "code",
      "source": [
        "#start with some constants\n",
        "g = 9.8\n",
        "x, x_dotdot = 0.\n",
        "\n",
        "#these constants should be allowed to change for different models\n",
        "C = 0.5\n",
        "A = 0.1\n",
        "rho = 1.225\n",
        "m = 100.\n",
        "timestep = 0.1\n",
        "\n",
        "#use a variable to combine all the drag constants\n",
        "k = 0.5*C*A*rho/m\n",
        "\n",
        "#these variables are the initial values. Start with vertical drop case\n",
        "y = 1000.\n",
        "v_x = 0.\n",
        "v_y = 0.\n",
        "theta = - np.pi/2\n"
      ],
      "metadata": {
        "id": "KZU0XvFV9_TI"
      },
      "execution_count": null,
      "outputs": []
    },
    {
      "cell_type": "markdown",
      "source": [
        "stuff"
      ],
      "metadata": {
        "id": "dYncQQCl_D9c"
      }
    },
    {
      "cell_type": "code",
      "source": [
        "#iterate position in x and y\n",
        "def update_pos(x,y,v_x,v_y,timestep):\n",
        "  x_new = x + v_x*timestep\n",
        "  y_new = y + v_y*timestep\n",
        "  return x_new, y_new\n",
        "\n",
        "#iterate velocity in y (velocity in x is constant for the no-drag case)\n",
        "def update_vel_y(g,v_y,timestep):\n",
        "  v_y_new = v_y - g*timestep\n",
        "  return v_y_new\n",
        "\n",
        "#make an array of positions and no drag velocity\n",
        "def model_nodrag(x,y,x_new,y_new,timestep):"
      ],
      "metadata": {
        "id": "-1q_fOmA_Gsp"
      },
      "execution_count": null,
      "outputs": []
    }
  ]
}